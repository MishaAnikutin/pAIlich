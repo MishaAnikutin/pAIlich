{
 "cells": [
  {
   "cell_type": "code",
   "execution_count": null,
   "id": "c5c08f62",
   "metadata": {},
   "outputs": [],
   "source": [
    "token = "
   ]
  },
  {
   "cell_type": "code",
   "execution_count": null,
   "id": "723abe56",
   "metadata": {},
   "outputs": [
    {
     "name": "stdout",
     "output_type": "stream",
     "text": [
      "{\"object\":\"list\",\"data\":[{\"id\":\"GigaChat\",\"object\":\"model\",\"owned_by\":\"salutedevices\",\"type\":\"chat\"},{\"id\":\"GigaChat-2\",\"object\":\"model\",\"owned_by\":\"salutedevices\",\"type\":\"chat\"},{\"id\":\"GigaChat-2-Max\",\"object\":\"model\",\"owned_by\":\"salutedevices\",\"type\":\"chat\"},{\"id\":\"GigaChat-2-Max-preview\",\"object\":\"model\",\"owned_by\":\"salutedevices\",\"type\":\"chat\"},{\"id\":\"GigaChat-2-Pro\",\"object\":\"model\",\"owned_by\":\"salutedevices\",\"type\":\"chat\"},{\"id\":\"GigaChat-2-Pro-preview\",\"object\":\"model\",\"owned_by\":\"salutedevices\",\"type\":\"chat\"},{\"id\":\"GigaChat-2-preview\",\"object\":\"model\",\"owned_by\":\"salutedevices\",\"type\":\"chat\"},{\"id\":\"GigaChat-Max\",\"object\":\"model\",\"owned_by\":\"salutedevices\",\"type\":\"chat\"},{\"id\":\"GigaChat-Max-preview\",\"object\":\"model\",\"owned_by\":\"salutedevices\",\"type\":\"chat\"},{\"id\":\"GigaChat-Plus\",\"object\":\"model\",\"owned_by\":\"salutedevices\",\"type\":\"chat\"},{\"id\":\"GigaChat-Plus-preview\",\"object\":\"model\",\"owned_by\":\"salutedevices\",\"type\":\"chat\"},{\"id\":\"GigaChat-Pro\",\"object\":\"model\",\"owned_by\":\"salutedevices\",\"type\":\"chat\"},{\"id\":\"GigaChat-Pro-preview\",\"object\":\"model\",\"owned_by\":\"salutedevices\",\"type\":\"chat\"},{\"id\":\"GigaChat-preview\",\"object\":\"model\",\"owned_by\":\"salutedevices\",\"type\":\"chat\"},{\"id\":\"Embeddings\",\"object\":\"model\",\"owned_by\":\"salutedevices\",\"type\":\"embedder\"},{\"id\":\"Embeddings-2\",\"object\":\"model\",\"owned_by\":\"salutedevices\",\"type\":\"embedder\"},{\"id\":\"EmbeddingsGigaR\",\"object\":\"model\",\"owned_by\":\"salutedevices\",\"type\":\"embedder\"}]}\n"
     ]
    },
    {
     "name": "stderr",
     "output_type": "stream",
     "text": [
      "c:\\Users\\lanmo\\AppData\\Local\\Programs\\Python\\Python312\\Lib\\site-packages\\urllib3\\connectionpool.py:1097: InsecureRequestWarning: Unverified HTTPS request is being made to host 'gigachat.devices.sberbank.ru'. Adding certificate verification is strongly advised. See: https://urllib3.readthedocs.io/en/latest/advanced-usage.html#tls-warnings\n",
      "  warnings.warn(\n"
     ]
    }
   ],
   "source": [
    "import requests\n",
    "\n",
    "url = \n",
    "\n",
    "payload={}\n",
    "headers = {\n",
    "  'Accept': 'application/json',\n",
    "  'Authorization': f'Bearer {token}'\n",
    "}\n",
    "\n",
    "response = requests.request(\"GET\", url, headers=headers, data=payload,verify=False)\n",
    "\n",
    "print(response.text)"
   ]
  },
  {
   "cell_type": "code",
   "execution_count": null,
   "id": "32c1c6fd",
   "metadata": {},
   "outputs": [
    {
     "name": "stdout",
     "output_type": "stream",
     "text": [
      "GigaChat:  Здравствуйте! Как я могу вам помочь?\n"
     ]
    }
   ],
   "source": [
    "from langchain_core.messages import HumanMessage, SystemMessage\n",
    "from langchain_gigachat.chat_models import GigaChat\n",
    "\n",
    "giga = GigaChat(\n",
    "    # Для авторизации запросов используйте ключ, полученный в проекте GigaChat API\n",
    "    credentials=,\n",
    "    verify_ssl_certs=False,\n",
    ")\n",
    "\n",
    "messages = [\n",
    "    SystemMessage(\n",
    "        content=\"Ты эмпатичный бот-психолог, который помогает пользователю решить его проблемы.\"\n",
    "    )\n",
    "]\n",
    "\n",
    "while(True):\n",
    "    user_input = input(\"Пользователь: \")\n",
    "    if user_input == \"пока\":\n",
    "      break\n",
    "    messages.append(HumanMessage(content=user_input))\n",
    "    res = giga.invoke(messages)\n",
    "    messages.append(res)\n",
    "    print(\"GigaChat: \", res.content)"
   ]
  },
  {
   "cell_type": "code",
   "execution_count": 6,
   "id": "d17bf29b",
   "metadata": {},
   "outputs": [],
   "source": [
    "from llm_client import Gigaclass"
   ]
  },
  {
   "cell_type": "code",
   "execution_count": 7,
   "id": "95ecb407",
   "metadata": {},
   "outputs": [],
   "source": [
    "chat = Gigaclass()"
   ]
  },
  {
   "cell_type": "code",
   "execution_count": null,
   "id": "4fe92978",
   "metadata": {},
   "outputs": [
    {
     "data": {
      "text/plain": [
       "'Меня зовут Саша.'"
      ]
     },
     "execution_count": 3,
     "metadata": {},
     "output_type": "execute_result"
    }
   ],
   "source": [
    "chat.generate('Меня зовут Саша','Как меня зовут?')"
   ]
  },
  {
   "cell_type": "code",
   "execution_count": 1,
   "id": "2fb12a6f",
   "metadata": {},
   "outputs": [
    {
     "name": "stderr",
     "output_type": "stream",
     "text": [
      "c:\\Users\\lanmo\\AppData\\Local\\Programs\\Python\\Python312\\Lib\\site-packages\\tqdm\\auto.py:21: TqdmWarning: IProgress not found. Please update jupyter and ipywidgets. See https://ipywidgets.readthedocs.io/en/stable/user_install.html\n",
      "  from .autonotebook import tqdm as notebook_tqdm\n"
     ]
    },
    {
     "name": "stdout",
     "output_type": "stream",
     "text": [
      "https://b53a4332-fabd-4a1d-9e50-26c702946ef8.us-east4-0.gcp.cloud.qdrant.io:6333\n"
     ]
    }
   ],
   "source": [
    "from gateway import *\n",
    "\n",
    "db = QdrantGateway()"
   ]
  },
  {
   "cell_type": "code",
   "execution_count": null,
   "id": "c49f8a77",
   "metadata": {},
   "outputs": [
    {
     "data": {
      "text/plain": [
       "[ScoredPoint(id=10, version=2, score=0.3097654, payload={'title': 'Нахождение критических точек', 'text': '- **Правосторонняя**: $P(K > k_{\\\\text{кр}}) = \\\\alpha$\\n- **Левосторонняя**: $P(K < k_{\\\\text{кр}}) = \\\\alpha$\\n- **Двусторонняя**: $P(K < k_{1\\\\text{кр}}) + P(K > k_{2\\\\text{кр}}) = \\\\alpha$.\\nДля симметричных распределений: $P(K < -k_{\\\\text{кр}}) = P(K > k_{\\\\text{кр}}) = \\\\frac{\\\\alpha}{2}$.'}, vector=None, shard_key=None, order_value=None),\n",
       " ScoredPoint(id=5, version=2, score=0.3058387, payload={'title': 'Ошибки первого и второго рода', 'text': '**Ошибка первого рода**: $H_0$ отвергается, хотя она верна. Вероятность — $\\\\alpha$ (уровень значимости).\\n\\n**Ошибка второго рода**: $H_0$ принимается, хотя она неверна. Вероятность — $\\\\beta$.\\n\\n**Мощность критерия**: вероятность отвергнуть неверную $H_0$: $1 - \\\\beta$.'}, vector=None, shard_key=None, order_value=None),\n",
       " ScoredPoint(id=13, version=2, score=0.2652248, payload={'title': 'Критерий отношения правдоподобия', 'text': 'Пусть случайная величина ξ непрерывна, и $f_0(x)$ и $f_1(x)$ — плотности её распределения при справедливости гипотез $H_0$ (нулевая) и $H_1$ (конкурирующая). Обозначим $L_0(x_1, \\\\dots, x_n)$ — функцию правдоподобия при $H_0$, и $L_1(x_1, \\\\dots, x_n)$ — при $H_1$. Отношение $\\\\frac{L_1}{L_0}$ (при $L_0 \\\\neq 0$) называют **отношением правдоподобия**.\\n\\n**Теорема**: Среди всех критериев, проверяющих простую гипотезу $H_0$ против $H_1$ при заданном $\\\\alpha$, наиболее мощным является критерий отношения правдоподобия. Критическая область имеет вид:\\n$$S = \\\\left\\\\{x: \\\\frac{L_1(x_1, \\\\dots, x_n)}{L_0(x_1, \\\\dots, x_n)} > C \\\\right\\\\} = \\\\alpha,$$\\nгде константа $C$ находится из уравнения:\\n$$P_{H_0}\\\\left(\\\\frac{L_1}{L_0} > C\\\\right) = \\\\alpha.$$'}, vector=None, shard_key=None, order_value=None)]"
      ]
     },
     "execution_count": 2,
     "metadata": {},
     "output_type": "execute_result"
    }
   ],
   "source": [
    "db.search('Как проверять гипотезы?',3)"
   ]
  },
  {
   "cell_type": "code",
   "execution_count": 3,
   "id": "a409fb89",
   "metadata": {},
   "outputs": [],
   "source": [
    "from retriever import *\n",
    "\n",
    "ret = Retriever(db,'None')"
   ]
  },
  {
   "cell_type": "code",
   "execution_count": 5,
   "id": "46f7ff5f",
   "metadata": {},
   "outputs": [
    {
     "data": {
      "text/plain": [
       "'- 1) 1. Формулировка $H_0$ и $H_1$\\n2. Выбор уровня значимости $\\\\alpha$\\n3. Выбор статистического критерия\\n4. Определение критической области по таблицам\\n5. Расчёт $K_{\\\\text{набл}}$\\n6. Решение:\\n   - $K_{\\\\text{набл}} \\\\in$ области принятия → $H_0$ принимается,\\n   - $K_{\\\\text{набл}} \\\\in$ критической области → $H_0$ отвергается.\\n\\n- 2) Возможные ситуации после проверки H₀:\\n1. H₀ верна **и** принимается.\\n2. H₀ верна, **но** отвергается (ошибка I рода).\\n3. H₀ неверна **и** отвергается.\\n4. H₀ неверна, **но** принимается (ошибка II рода).\\n\\n- 3) **Простая гипотеза** содержит одно предположение. Пример:\\n- Для показательного распределения с параметром $\\\\lambda$: $H_0: \\\\lambda = 5$.\\n\\n**Сложная гипотеза** состоит из конечного/бесконечного числа простых гипотез..\\n\\n'"
      ]
     },
     "execution_count": 5,
     "metadata": {},
     "output_type": "execute_result"
    }
   ],
   "source": [
    "ret.retrieve('Как проверять гипотезы?')"
   ]
  },
  {
   "cell_type": "code",
   "execution_count": 8,
   "id": "a190d490",
   "metadata": {},
   "outputs": [
    {
     "data": {
      "text/plain": [
       "'Проверка гипотез включает несколько ключевых этапов:\\n\\n### 1. Формулировка нулевой гипотезы ($H_0$) и альтернативной гипотезы ($H_1$)\\n- Нулевая гипотеза представляет собой утверждение, которое мы хотим проверить. Обычно это утверждение о том, что между группами нет различий или зависимостей.\\n- Альтернативная гипотеза указывает на противоположное утверждение. Например, если $H_0$ утверждает равенство средних значений двух групп, то $H_1$ может утверждать их неравенство.\\n\\n### 2. Выбор уровня значимости ($\\\\alpha$)\\n- Уровень значимости определяет вероятность ошибки первого рода (отвергнуть истинную гипотезу), которую мы готовы допустить. Обычно выбирают значение $\\\\alpha = 0.05$ или $\\\\alpha = 0.01$.\\n\\n### 3. Выбор статистического критерия\\n- Статистический критерий – это правило для принятия решения о том, следует ли отклонить $H_0$ на основании наблюдаемых данных. Примеры таких критериев включают t-критерий Стьюдента, F-критерий Фишера и другие.\\n\\n### 4. Определение критической области по таблицам\\n- Критическая область определяется на основе выбранного уровня значимости и распределения тестовой статистики. Если наблюдение попадает в эту область, гипотеза отвергается.\\n\\n### 5. Расчет наблюдаемого значения статистики ($K_{\\\\text{набл}}$)\\n- Наблюдаемое значение статистики рассчитывается на основе данных и используемого статистического критерия. Оно показывает степень расхождения между выборками.\\n\\n### 6. Решение:\\n- Если $K_{\\\\text{набл}}$ попадает в критическую область, то гипотеза $H_0$ отвергается. Если же $K_{\\\\text{набл}}$ находится вне этой области, то гипотеза $H_0$ принимается.\\n\\nЭти шаги являются стандартными при проверке гипотез в математической статистике.'"
      ]
     },
     "execution_count": 8,
     "metadata": {},
     "output_type": "execute_result"
    }
   ],
   "source": [
    "chat.generate(ret.retrieve('Как проверять гипотезы?'),'Как проверять гипотезы?')"
   ]
  },
  {
   "cell_type": "code",
   "execution_count": null,
   "id": "b15b8ee9",
   "metadata": {},
   "outputs": [],
   "source": []
  }
 ],
 "metadata": {
  "kernelspec": {
   "display_name": "Python 3",
   "language": "python",
   "name": "python3"
  },
  "language_info": {
   "codemirror_mode": {
    "name": "ipython",
    "version": 3
   },
   "file_extension": ".py",
   "mimetype": "text/x-python",
   "name": "python",
   "nbconvert_exporter": "python",
   "pygments_lexer": "ipython3",
   "version": "3.12.9"
  }
 },
 "nbformat": 4,
 "nbformat_minor": 5
}
