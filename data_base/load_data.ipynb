{
 "cells": [
  {
   "cell_type": "code",
   "execution_count": 4,
   "id": "6fc80f90",
   "metadata": {},
   "outputs": [
    {
     "name": "stderr",
     "output_type": "stream",
     "text": [
      "c:\\Users\\lanmo\\Desktop\\rag наследие\\.venv\\Lib\\site-packages\\tqdm\\auto.py:21: TqdmWarning: IProgress not found. Please update jupyter and ipywidgets. See https://ipywidgets.readthedocs.io/en/stable/user_install.html\n",
      "  from .autonotebook import tqdm as notebook_tqdm\n"
     ]
    }
   ],
   "source": [
    "import json5\n",
    "from QdrantService import *"
   ]
  },
  {
   "cell_type": "code",
   "execution_count": 5,
   "id": "b464bd0e",
   "metadata": {},
   "outputs": [
    {
     "ename": "TypeError",
     "evalue": "load_data() missing 1 required positional argument: 'text'",
     "output_type": "error",
     "traceback": [
      "\u001b[31m---------------------------------------------------------------------------\u001b[39m",
      "\u001b[31mTypeError\u001b[39m                                 Traceback (most recent call last)",
      "\u001b[36mCell\u001b[39m\u001b[36m \u001b[39m\u001b[32mIn[5]\u001b[39m\u001b[32m, line 5\u001b[39m\n\u001b[32m      2\u001b[39m     \u001b[38;5;28;01mwith\u001b[39;00m \u001b[38;5;28mopen\u001b[39m(text, \u001b[33m\"\u001b[39m\u001b[33mr\u001b[39m\u001b[33m\"\u001b[39m, encoding=\u001b[33m'\u001b[39m\u001b[33mutf-8-sig\u001b[39m\u001b[33m'\u001b[39m) \u001b[38;5;28;01mas\u001b[39;00m f:\n\u001b[32m      3\u001b[39m         \u001b[38;5;28;01mreturn\u001b[39;00m json5.load(f)\n\u001b[32m----> \u001b[39m\u001b[32m5\u001b[39m data = \u001b[43mload_data\u001b[49m\u001b[43m(\u001b[49m\u001b[43m)\u001b[49m\u001b[38;5;66;03m#Указать ваш файл\u001b[39;00m\n",
      "\u001b[31mTypeError\u001b[39m: load_data() missing 1 required positional argument: 'text'"
     ]
    }
   ],
   "source": [
    "def load_data(text):\n",
    "    with open(text, \"r\", encoding='utf-8-sig') as f:\n",
    "        return json5.load(f)\n",
    "\n",
    "data = load_data()#Указать ваш файл"
   ]
  },
  {
   "cell_type": "code",
   "execution_count": null,
   "id": "92b3b78e",
   "metadata": {},
   "outputs": [],
   "source": [
    "db = QdrantServise(\n",
    "    key = ,\n",
    "    url = \"https://b53a4332-fabd-4a1d-9e50-26c702946ef8.us-east4-0.gcp.cloud.qdrant.io:6333\",\n",
    "    model_name= 'sentence-transformers/paraphrase-multilingual-mpnet-base-v2'\n",
    ")"
   ]
  },
  {
   "cell_type": "code",
   "execution_count": null,
   "id": "6e944509",
   "metadata": {},
   "outputs": [],
   "source": [
    "db.upload(data)"
   ]
  }
 ],
 "metadata": {
  "kernelspec": {
   "display_name": ".venv",
   "language": "python",
   "name": "python3"
  },
  "language_info": {
   "codemirror_mode": {
    "name": "ipython",
    "version": 3
   },
   "file_extension": ".py",
   "mimetype": "text/x-python",
   "name": "python",
   "nbconvert_exporter": "python",
   "pygments_lexer": "ipython3",
   "version": "3.12.9"
  }
 },
 "nbformat": 4,
 "nbformat_minor": 5
}
